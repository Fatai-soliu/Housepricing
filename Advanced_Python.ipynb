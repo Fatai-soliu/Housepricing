{
  "nbformat": 4,
  "nbformat_minor": 0,
  "metadata": {
    "colab": {
      "provenance": [],
      "authorship_tag": "ABX9TyNdq22g4tlH+jExKmrtd1Xu",
      "include_colab_link": true
    },
    "kernelspec": {
      "name": "python3",
      "display_name": "Python 3"
    },
    "language_info": {
      "name": "python"
    }
  },
  "cells": [
    {
      "cell_type": "markdown",
      "metadata": {
        "id": "view-in-github",
        "colab_type": "text"
      },
      "source": [
        "<a href=\"https://colab.research.google.com/github/Fatai-soliu/Housepricing/blob/main/Advanced_Python.ipynb\" target=\"_parent\"><img src=\"https://colab.research.google.com/assets/colab-badge.svg\" alt=\"Open In Colab\"/></a>"
      ]
    },
    {
      "cell_type": "code",
      "execution_count": null,
      "metadata": {
        "id": "SnMyFATOIyBE"
      },
      "outputs": [],
      "source": [
        "#Iterator\n",
        "\n",
        "list = [1,2,3,4,5,6]"
      ]
    },
    {
      "cell_type": "code",
      "source": [
        "type(list)"
      ],
      "metadata": {
        "colab": {
          "base_uri": "https://localhost:8080/"
        },
        "id": "SZRqhTJCI6oJ",
        "outputId": "0e3c5cdd-2160-4699-e277-652fd25f4e2b"
      },
      "execution_count": null,
      "outputs": [
        {
          "output_type": "execute_result",
          "data": {
            "text/plain": [
              "list"
            ]
          },
          "metadata": {},
          "execution_count": 2
        }
      ]
    },
    {
      "cell_type": "code",
      "source": [
        "print(list)"
      ],
      "metadata": {
        "colab": {
          "base_uri": "https://localhost:8080/"
        },
        "id": "bpKz05exI727",
        "outputId": "402ab749-67e8-401b-a693-3b2827a4bb6f"
      },
      "execution_count": null,
      "outputs": [
        {
          "output_type": "stream",
          "name": "stdout",
          "text": [
            "[1, 2, 3, 4, 5, 6]\n"
          ]
        }
      ]
    },
    {
      "cell_type": "code",
      "source": [
        "my_list = list\n",
        "for i in my_list:\n",
        "  print(i)"
      ],
      "metadata": {
        "colab": {
          "base_uri": "https://localhost:8080/"
        },
        "id": "Z_b2-NtAJCoH",
        "outputId": "0879a566-1ecc-4f06-8b90-21ce9404c7ef"
      },
      "execution_count": null,
      "outputs": [
        {
          "output_type": "stream",
          "name": "stdout",
          "text": [
            "1\n",
            "2\n",
            "3\n",
            "4\n",
            "5\n",
            "6\n"
          ]
        }
      ]
    },
    {
      "cell_type": "code",
      "source": [
        "iter(my_list)"
      ],
      "metadata": {
        "colab": {
          "base_uri": "https://localhost:8080/"
        },
        "id": "6fRCXsWnJjJg",
        "outputId": "89b7a2d5-ff37-4726-b67e-b6a136eef7db"
      },
      "execution_count": null,
      "outputs": [
        {
          "output_type": "execute_result",
          "data": {
            "text/plain": [
              "<list_iterator at 0x78bb8203ef20>"
            ]
          },
          "metadata": {},
          "execution_count": 8
        }
      ]
    },
    {
      "cell_type": "code",
      "source": [
        "iterator = iter(my_list)"
      ],
      "metadata": {
        "id": "xsW680kmJqkZ"
      },
      "execution_count": null,
      "outputs": []
    },
    {
      "cell_type": "code",
      "source": [
        "print(type(iterator))"
      ],
      "metadata": {
        "colab": {
          "base_uri": "https://localhost:8080/"
        },
        "id": "rxk0bLB0Jvom",
        "outputId": "3c19de63-a8f7-4595-83c5-fc5ce688e9c4"
      },
      "execution_count": null,
      "outputs": [
        {
          "output_type": "stream",
          "name": "stdout",
          "text": [
            "<class 'list_iterator'>\n"
          ]
        }
      ]
    },
    {
      "cell_type": "code",
      "source": [
        "print(iterator)"
      ],
      "metadata": {
        "colab": {
          "base_uri": "https://localhost:8080/"
        },
        "id": "GaCJK9LeJxUf",
        "outputId": "61d9ad55-8f37-4f65-f7f4-8bc5cc3d3bd6"
      },
      "execution_count": null,
      "outputs": [
        {
          "output_type": "stream",
          "name": "stdout",
          "text": [
            "<list_iterator object at 0x78bb8203f790>\n"
          ]
        }
      ]
    },
    {
      "cell_type": "code",
      "source": [
        "## To handle exception\n",
        "try:\n",
        "  print(next(iterator))\n",
        "except StopIteration:\n",
        "  print(\"There is no numbers left in the iterator\")"
      ],
      "metadata": {
        "colab": {
          "base_uri": "https://localhost:8080/"
        },
        "id": "eMDgnAoNJ4gA",
        "outputId": "ecd7e1fa-a017-44ba-f546-49edf114743f"
      },
      "execution_count": null,
      "outputs": [
        {
          "output_type": "stream",
          "name": "stdout",
          "text": [
            "There is no numbers left in the iterator\n"
          ]
        }
      ]
    },
    {
      "cell_type": "code",
      "source": [
        "# Same thing for string\n",
        "\n",
        "#my_string = \"Hello\"\n",
        "#string_iterator = iter(my_string)\n",
        "\n",
        "try:\n",
        "  print(next(string_iterator))\n",
        "except StopIteration:\n",
        "  print(\"There are no alphabets left to iterate on\")"
      ],
      "metadata": {
        "colab": {
          "base_uri": "https://localhost:8080/"
        },
        "id": "ijmXyTMnKQWe",
        "outputId": "0708b9aa-6088-4508-e513-fa51ff638216"
      },
      "execution_count": null,
      "outputs": [
        {
          "output_type": "stream",
          "name": "stdout",
          "text": [
            "There are no alphabets left to iterate on\n"
          ]
        }
      ]
    },
    {
      "cell_type": "code",
      "source": [
        "## Generators\n",
        "def square(n):\n",
        "    for i in range(3):\n",
        "        yield i**2\n"
      ],
      "metadata": {
        "id": "GgmbMC2yLKrw"
      },
      "execution_count": null,
      "outputs": []
    },
    {
      "cell_type": "code",
      "source": [
        "square(3)"
      ],
      "metadata": {
        "colab": {
          "base_uri": "https://localhost:8080/"
        },
        "id": "Hok_2LsSRHhL",
        "outputId": "5b999634-0d25-4918-c564-0e78d8ad3843"
      },
      "execution_count": null,
      "outputs": [
        {
          "output_type": "execute_result",
          "data": {
            "text/plain": [
              "<generator object square at 0x78bb6d05d5b0>"
            ]
          },
          "metadata": {},
          "execution_count": 42
        }
      ]
    },
    {
      "cell_type": "code",
      "source": [
        "for i in square(3):\n",
        "  print(i)"
      ],
      "metadata": {
        "colab": {
          "base_uri": "https://localhost:8080/"
        },
        "id": "ZQj_8rkDRMu7",
        "outputId": "6f818387-112c-4768-8edb-26c3618b8c1f"
      },
      "execution_count": null,
      "outputs": [
        {
          "output_type": "stream",
          "name": "stdout",
          "text": [
            "0\n",
            "1\n",
            "4\n"
          ]
        }
      ]
    },
    {
      "cell_type": "code",
      "source": [
        "a=square(3)\n",
        "a"
      ],
      "metadata": {
        "colab": {
          "base_uri": "https://localhost:8080/"
        },
        "id": "YBNATer4RVZt",
        "outputId": "f23643cd-fda9-476c-d05f-9066fb1aac9b"
      },
      "execution_count": null,
      "outputs": [
        {
          "output_type": "execute_result",
          "data": {
            "text/plain": [
              "<generator object square at 0x78bb6d05d690>"
            ]
          },
          "metadata": {},
          "execution_count": 44
        }
      ]
    },
    {
      "cell_type": "code",
      "source": [
        "next(a)"
      ],
      "metadata": {
        "colab": {
          "base_uri": "https://localhost:8080/"
        },
        "id": "32RUHmaFSMRb",
        "outputId": "0734f1d5-0411-4bb8-af98-4872c8864487"
      },
      "execution_count": null,
      "outputs": [
        {
          "output_type": "execute_result",
          "data": {
            "text/plain": [
              "4"
            ]
          },
          "metadata": {},
          "execution_count": 47
        }
      ]
    },
    {
      "cell_type": "code",
      "source": [
        "def my_generator():\n",
        "  yield 1\n",
        "  yield 2\n",
        "  yield 3\n"
      ],
      "metadata": {
        "id": "5c0Kr539SOJS"
      },
      "execution_count": null,
      "outputs": []
    },
    {
      "cell_type": "code",
      "source": [
        "gen = my_generator()\n",
        "gen"
      ],
      "metadata": {
        "colab": {
          "base_uri": "https://localhost:8080/"
        },
        "id": "smL_0mF5SaGE",
        "outputId": "8bbceba5-6e74-4627-9cc2-9caaea19f8ff"
      },
      "execution_count": null,
      "outputs": [
        {
          "output_type": "execute_result",
          "data": {
            "text/plain": [
              "<generator object my_generator at 0x78bb6d05dc40>"
            ]
          },
          "metadata": {},
          "execution_count": 49
        }
      ]
    },
    {
      "cell_type": "code",
      "source": [
        "next(gen)"
      ],
      "metadata": {
        "colab": {
          "base_uri": "https://localhost:8080/"
        },
        "id": "-R0bN1ooSfKJ",
        "outputId": "6562eb1d-eb6f-4223-aee7-58cb41d27a4a"
      },
      "execution_count": null,
      "outputs": [
        {
          "output_type": "execute_result",
          "data": {
            "text/plain": [
              "1"
            ]
          },
          "metadata": {},
          "execution_count": 50
        }
      ]
    },
    {
      "cell_type": "code",
      "source": [
        "for val in gen:\n",
        "  print(val)"
      ],
      "metadata": {
        "colab": {
          "base_uri": "https://localhost:8080/"
        },
        "id": "6IxlBGr9Sidi",
        "outputId": "76a26f83-265e-4baa-fa37-7b5f5a18d807"
      },
      "execution_count": null,
      "outputs": [
        {
          "output_type": "stream",
          "name": "stdout",
          "text": [
            "2\n",
            "3\n"
          ]
        }
      ]
    },
    {
      "cell_type": "markdown",
      "source": [
        "### Practical Example: Reading Large Files\n",
        "\n",
        "Generators are particularly useful for reading large files because they allow you to process one line at a time without loading the entire file into memory"
      ],
      "metadata": {
        "id": "rVwBm7o7S4Lo"
      }
    },
    {
      "cell_type": "code",
      "source": [
        "## Pratical example : Reading Large files\n",
        "\n",
        "def read_large_file(file_path):\n",
        "  with open(file_path, 'r') as file:\n",
        "    for line in file:\n",
        "      yield line\n"
      ],
      "metadata": {
        "id": "X857ASfsSmAy"
      },
      "execution_count": null,
      "outputs": []
    },
    {
      "cell_type": "code",
      "source": [
        "file_path = 'large_file.txt' ## create a large file and test\n",
        "\n",
        "for line in read_large_file(file_path):\n",
        "    print(line.strip())"
      ],
      "metadata": {
        "id": "iH5e8d7xUibp"
      },
      "execution_count": null,
      "outputs": []
    },
    {
      "cell_type": "markdown",
      "source": [
        "Data Analysis with Python"
      ],
      "metadata": {
        "id": "GjyixQoDNEtg"
      }
    },
    {
      "cell_type": "code",
      "source": [
        "!pip install numpy"
      ],
      "metadata": {
        "colab": {
          "base_uri": "https://localhost:8080/"
        },
        "id": "K7BmntHdNHEn",
        "outputId": "d03e9f25-c831-43c3-e70e-4a000627b14f"
      },
      "execution_count": 1,
      "outputs": [
        {
          "output_type": "stream",
          "name": "stdout",
          "text": [
            "Requirement already satisfied: numpy in /usr/local/lib/python3.10/dist-packages (1.26.4)\n"
          ]
        }
      ]
    },
    {
      "cell_type": "code",
      "source": [
        "import numpy as np\n",
        "\n",
        "## Create arrays using numpy\n",
        "##Create a 1D array\n",
        "\n",
        "arr1  = np.array([1,2,3,4,5])\n",
        "print(arr1)\n",
        "print(type(arr1))"
      ],
      "metadata": {
        "colab": {
          "base_uri": "https://localhost:8080/"
        },
        "id": "T9dLsaoWOHR2",
        "outputId": "22d0ed13-bed0-4c4f-db52-13dc4d76f1cf"
      },
      "execution_count": 3,
      "outputs": [
        {
          "output_type": "stream",
          "name": "stdout",
          "text": [
            "[1 2 3 4 5]\n",
            "<class 'numpy.ndarray'>\n"
          ]
        }
      ]
    },
    {
      "cell_type": "code",
      "source": [
        "arr2 = np.array([1,2,3,4,5])\n"
      ],
      "metadata": {
        "colab": {
          "base_uri": "https://localhost:8080/"
        },
        "id": "Z20vz0tAOapu",
        "outputId": "05ccdcd1-da73-436d-970a-2c6275c3d8b4"
      },
      "execution_count": 9,
      "outputs": [
        {
          "output_type": "execute_result",
          "data": {
            "text/plain": [
              "array([[1, 2, 3, 4, 5]])"
            ]
          },
          "metadata": {},
          "execution_count": 9
        }
      ]
    },
    {
      "cell_type": "code",
      "source": [
        "arr2.reshape(1,5)"
      ],
      "metadata": {
        "colab": {
          "base_uri": "https://localhost:8080/"
        },
        "id": "_S_wfjNmOhyF",
        "outputId": "c20f1ac2-68cc-4798-bc77-244d92e8953c"
      },
      "execution_count": 14,
      "outputs": [
        {
          "output_type": "execute_result",
          "data": {
            "text/plain": [
              "array([[1, 2, 3, 4, 5]])"
            ]
          },
          "metadata": {},
          "execution_count": 14
        }
      ]
    },
    {
      "cell_type": "code",
      "source": [
        "arr2.shape"
      ],
      "metadata": {
        "colab": {
          "base_uri": "https://localhost:8080/"
        },
        "id": "AFNSYkv_PCpN",
        "outputId": "54487a35-d25c-4eee-8e1b-a61f207211fc"
      },
      "execution_count": 12,
      "outputs": [
        {
          "output_type": "execute_result",
          "data": {
            "text/plain": [
              "(5,)"
            ]
          },
          "metadata": {},
          "execution_count": 12
        }
      ]
    },
    {
      "cell_type": "code",
      "source": [
        "##2D Array\n",
        "\n",
        "arr3 = np.array([[1,2,3,4,5],[1,2,3,4,5]])"
      ],
      "metadata": {
        "id": "aG0QACJRPfQq"
      },
      "execution_count": 18,
      "outputs": []
    },
    {
      "cell_type": "code",
      "source": [
        "print(arr3.shape)\n",
        "print(arr3)"
      ],
      "metadata": {
        "colab": {
          "base_uri": "https://localhost:8080/"
        },
        "id": "rQjc9E_RPwlD",
        "outputId": "308fa761-2768-416c-c6c4-ebc36c6e4c5f"
      },
      "execution_count": 19,
      "outputs": [
        {
          "output_type": "stream",
          "name": "stdout",
          "text": [
            "(2, 5)\n",
            "[[1 2 3 4 5]\n",
            " [1 2 3 4 5]]\n"
          ]
        }
      ]
    },
    {
      "cell_type": "code",
      "source": [
        "#Array with in built function\n",
        "\n",
        "np.arange(0,10,2).reshape(5,1)"
      ],
      "metadata": {
        "colab": {
          "base_uri": "https://localhost:8080/"
        },
        "id": "ZBi4G67tPxiN",
        "outputId": "6e28e587-af70-4c77-a1e1-89012fd98e06"
      },
      "execution_count": 21,
      "outputs": [
        {
          "output_type": "execute_result",
          "data": {
            "text/plain": [
              "array([[0],\n",
              "       [2],\n",
              "       [4],\n",
              "       [6],\n",
              "       [8]])"
            ]
          },
          "metadata": {},
          "execution_count": 21
        }
      ]
    },
    {
      "cell_type": "code",
      "source": [
        "np.ones((3,4))"
      ],
      "metadata": {
        "colab": {
          "base_uri": "https://localhost:8080/"
        },
        "id": "7_-L5SwgQWDs",
        "outputId": "2036b7b8-1caf-4f5a-faec-9c606877cdf7"
      },
      "execution_count": 22,
      "outputs": [
        {
          "output_type": "execute_result",
          "data": {
            "text/plain": [
              "array([[1., 1., 1., 1.],\n",
              "       [1., 1., 1., 1.],\n",
              "       [1., 1., 1., 1.]])"
            ]
          },
          "metadata": {},
          "execution_count": 22
        }
      ]
    },
    {
      "cell_type": "code",
      "source": [
        "#identity matrix\n",
        "\n",
        "np.eye(3)"
      ],
      "metadata": {
        "colab": {
          "base_uri": "https://localhost:8080/"
        },
        "id": "gnk5YtIkQd_3",
        "outputId": "c72a5ba6-cbe6-40d8-f3e6-254fbd4f979d"
      },
      "execution_count": 23,
      "outputs": [
        {
          "output_type": "execute_result",
          "data": {
            "text/plain": [
              "array([[1., 0., 0.],\n",
              "       [0., 1., 0.],\n",
              "       [0., 0., 1.]])"
            ]
          },
          "metadata": {},
          "execution_count": 23
        }
      ]
    },
    {
      "cell_type": "code",
      "source": [
        "## Numpy Vectorized Operation\n",
        "\n",
        "arr4 = np.array([1,2,3,4,5])\n",
        "arr5 = np.array([10,20,30,40,50])\n",
        "\n",
        "## Elemenet wise addition\n",
        "print(\"Addition:\", arr4+arr5)\n",
        "\n",
        "##Element wise substraction\n",
        "print(\"Substration:\", arr4-arr5)"
      ],
      "metadata": {
        "colab": {
          "base_uri": "https://localhost:8080/"
        },
        "id": "23rVAlH1Qpl-",
        "outputId": "a5cdf364-ae99-43b3-888f-4fa97f22a2d0"
      },
      "execution_count": 24,
      "outputs": [
        {
          "output_type": "stream",
          "name": "stdout",
          "text": [
            "Addition: [11 22 33 44 55]\n",
            "Substration: [ -9 -18 -27 -36 -45]\n"
          ]
        }
      ]
    },
    {
      "cell_type": "code",
      "source": [
        "## Universal function\n",
        "##square root\n",
        "print(np.sqrt(arr4))\n",
        "\n",
        "##Exponential\n",
        "print(np.exp(arr4))\n",
        "\n",
        "#Sine\n",
        "print(np.sin(arr4))\n",
        "\n",
        "#Natural Log\n",
        "print(np.log(arr4))"
      ],
      "metadata": {
        "colab": {
          "base_uri": "https://localhost:8080/"
        },
        "id": "vwXLjzfzRTe-",
        "outputId": "1666b155-9df7-4beb-8ce6-268aae4d5ae5"
      },
      "execution_count": 25,
      "outputs": [
        {
          "output_type": "stream",
          "name": "stdout",
          "text": [
            "[1.         1.41421356 1.73205081 2.         2.23606798]\n",
            "[  2.71828183   7.3890561   20.08553692  54.59815003 148.4131591 ]\n",
            "[ 0.84147098  0.90929743  0.14112001 -0.7568025  -0.95892427]\n",
            "[0.         0.69314718 1.09861229 1.38629436 1.60943791]\n"
          ]
        }
      ]
    },
    {
      "cell_type": "code",
      "source": [
        "## Array slicing and indexing\n",
        "\n",
        "arr6 = np.array([[1,2,3,4],[5,6,7,8],[9,10,11,12]])\n",
        "\n",
        "print(\"Array /n:\", arr6)"
      ],
      "metadata": {
        "colab": {
          "base_uri": "https://localhost:8080/"
        },
        "id": "voGUkR4FSCVi",
        "outputId": "2476865f-e687-41db-fd9b-e5b9573eab5c"
      },
      "execution_count": 27,
      "outputs": [
        {
          "output_type": "stream",
          "name": "stdout",
          "text": [
            "Array /n: [[ 1  2  3  4]\n",
            " [ 5  6  7  8]\n",
            " [ 9 10 11 12]]\n"
          ]
        }
      ]
    },
    {
      "cell_type": "code",
      "source": [
        "print(arr6[0][0])\n",
        "print(arr6[1:,2:])"
      ],
      "metadata": {
        "colab": {
          "base_uri": "https://localhost:8080/"
        },
        "id": "AsukhfZ7SpjT",
        "outputId": "3c5270b0-5885-4444-8a61-27816d01f7fa"
      },
      "execution_count": 35,
      "outputs": [
        {
          "output_type": "stream",
          "name": "stdout",
          "text": [
            "1\n",
            "[[ 7  8]\n",
            " [11 12]]\n"
          ]
        }
      ]
    },
    {
      "cell_type": "code",
      "source": [
        "print(arr6[1:,1:3])"
      ],
      "metadata": {
        "colab": {
          "base_uri": "https://localhost:8080/"
        },
        "id": "B3Y43vJLS615",
        "outputId": "cc0d0848-3d42-4316-e933-c4e52859aaa9"
      },
      "execution_count": 40,
      "outputs": [
        {
          "output_type": "stream",
          "name": "stdout",
          "text": [
            "[[ 6  7]\n",
            " [10 11]]\n"
          ]
        }
      ]
    },
    {
      "cell_type": "code",
      "source": [
        "## Statistical concept -- Normalization\n",
        "##To have a mean of 0 and standard deviation of 1\n",
        "\n",
        "data = np.array([1,2,3,4,5])\n",
        "\n",
        "#Calculate the mean and standard deviation\n",
        "\n",
        "mean = np.mean(data)\n",
        "std_dev = np.std(data)"
      ],
      "metadata": {
        "id": "wEtWH6RXTEnp"
      },
      "execution_count": 41,
      "outputs": []
    },
    {
      "cell_type": "code",
      "source": [
        "print(mean)\n",
        "print(std_dev)"
      ],
      "metadata": {
        "colab": {
          "base_uri": "https://localhost:8080/"
        },
        "id": "pIJwzLi9UeLp",
        "outputId": "89548899-712e-4c7b-a212-4177c2e0dfa2"
      },
      "execution_count": 42,
      "outputs": [
        {
          "output_type": "stream",
          "name": "stdout",
          "text": [
            "3.0\n",
            "1.4142135623730951\n"
          ]
        }
      ]
    },
    {
      "cell_type": "code",
      "source": [
        "##Normalize the data\n",
        "\n",
        "normalized_data = (data - mean)/ std_dev\n",
        "print(\"Normalized data:\", normalized_data)"
      ],
      "metadata": {
        "colab": {
          "base_uri": "https://localhost:8080/"
        },
        "id": "TKOndVDyUgUA",
        "outputId": "d7753899-6070-4198-84d6-555b9fbdc920"
      },
      "execution_count": 48,
      "outputs": [
        {
          "output_type": "stream",
          "name": "stdout",
          "text": [
            "Normalized data: [-1.41421356 -0.70710678  0.          0.70710678  1.41421356]\n"
          ]
        }
      ]
    },
    {
      "cell_type": "code",
      "source": [
        "## Logical operations\n",
        "\n",
        "data = np.array([1,2,3,4,5,6,7,8,9,10,11,12,13,14,15])\n",
        "\n",
        "data[(data>5) & (data <10)]"
      ],
      "metadata": {
        "colab": {
          "base_uri": "https://localhost:8080/"
        },
        "id": "Ss0BKijYUuw7",
        "outputId": "a909758f-98b0-4db8-807b-b78c07bc71f3"
      },
      "execution_count": 51,
      "outputs": [
        {
          "output_type": "execute_result",
          "data": {
            "text/plain": [
              "array([6, 7, 8, 9])"
            ]
          },
          "metadata": {},
          "execution_count": 51
        }
      ]
    },
    {
      "cell_type": "code",
      "source": [],
      "metadata": {
        "id": "pwrGlBBHVfP4"
      },
      "execution_count": null,
      "outputs": []
    }
  ]
}